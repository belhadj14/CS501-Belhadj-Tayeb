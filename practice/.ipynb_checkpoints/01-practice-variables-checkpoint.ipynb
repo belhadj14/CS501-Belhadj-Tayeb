{
 "cells": [
  {
   "cell_type": "code",
   "execution_count": null,
   "id": "_Hf5e1j6E5Nb",
   "metadata": {
    "id": "_Hf5e1j6E5Nb"
   },
   "outputs": [],
   "source": []
  },
  {
   "cell_type": "markdown",
   "id": "ydB8ysV2E51M",
   "metadata": {
    "id": "ydB8ysV2E51M"
   },
   "source": []
  },
  {
   "cell_type": "code",
   "execution_count": null,
   "id": "f99d9590-706d-4de3-94a9-be26d4b787f7",
   "metadata": {
    "id": "f99d9590-706d-4de3-94a9-be26d4b787f7"
   },
   "outputs": [],
   "source": [
    "# =======================================================================\n",
    "# Exercise: Variables in Python\n",
    "# Course: Deep Learning Complete Course (CS-501)\n",
    "#\n",
    "# Description: This notebook contains 20 questions/exercises to test\n",
    "#              your understanding of creating, naming, and using variables\n",
    "#              in Python.\n",
    "# © Copyright: Dr. Saad Laouadi\n",
    "# All Rights Reserved 🛡️\n",
    "# ======================================================================="
   ]
  },
  {
   "cell_type": "code",
   "execution_count": 2,
   "id": "beb0983b-3b26-49b0-93d6-4386bd5cd49c",
   "metadata": {
    "id": "beb0983b-3b26-49b0-93d6-4386bd5cd49c"
   },
   "outputs": [
    {
     "name": "stdout",
     "output_type": "stream",
     "text": [
      "Tiaret Algeria\n",
      "60\n",
      "<class 'float'>\n",
      "True\n",
      "BELHADJ Tayeb\n",
      "The area of a rectangle with a length of 15 and a width of 10 is 150\n",
      "The area of a triangle with a base of 8 and a height of 5 is 20.0\n",
      "Hello World\n",
      "False\n",
      "My name is BELHADJ and I am 65 years old\n"
     ]
    }
   ],
   "source": [
    "# Q1: Create a variable named `age` and assign your age to it.\n",
    "# Your code here:\n",
    "age=50\n",
    "\n",
    "\n",
    "# Q2: Create two variables, `city` and `country`, and assign your city and country to them.\n",
    "# Your code here:\n",
    "city='Tiaret'\n",
    "country='Algeria'\n",
    "\n",
    "\n",
    "# Q3: Combine `city` and `country` into a single string `location` and print it.\n",
    "# Your code here:\n",
    "location=city+' '+country\n",
    "print (location)\n",
    "\n",
    "# Q4: Change the value of `age` to a different number and print it.\n",
    "# Your code here:\n",
    "age=60\n",
    "print(age)\n",
    "\n",
    "\n",
    "# Q5: Create a variable `height` and assign a float value representing your height in meters.\n",
    "# Your code here:\n",
    "height=1.60\n",
    "\n",
    "\n",
    "# Q6: Check and print the data type of the `height` variable using the `type()` function.\n",
    "# Your code here:\n",
    "print(type(height))\n",
    "\n",
    "\n",
    "# Q7: Assign the value `True` to a variable named `is_student` and print the variable.\n",
    "# Your code here:\n",
    "is_student=True\n",
    "print(is_student)\n",
    "\n",
    "# Q8: Create a variable `name` with your first name using double quotes and then another variable `surname` with your last name using single quotes. Combine them into `full_name`.\n",
    "# Your code here:\n",
    "name=\"BELHADJ\"\n",
    "surname='Tayeb'\n",
    "full_name=name+' '+surname\n",
    "print(full_name)\n",
    "\n",
    "# Q9: Create two variables `x` and `y` and assign them integer values. Swap their values without using a third variable.\n",
    "# Your code here:\n",
    "x=10\n",
    "y=20\n",
    "x,y=y,x\n",
    "\n",
    "\n",
    "# Q10: Write a statement to update the `age` variable by adding 5 to it.\n",
    "# Your code here:\n",
    "age+=5\n",
    "\n",
    "\n",
    "# Q11: Create a variable `length` and assign it the value 15. Create another variable `width` and assign it 10. Calculate the area of a rectangle using these variables and print the result.\n",
    "# Your code here:\n",
    "length=15\n",
    "width=10\n",
    "rectangle_area=length*width\n",
    "\n",
    "print(f\"The area of a rectangle with a length of {length} and a width of {width} is {rectangle_area}\")\n",
    "\n",
    "\n",
    "# Q12: Using the variables `base` and `height`, calculate the area of a triangle and print it. Assume `base = 8` and `height = 5`.\n",
    "# Your code here:\n",
    "base=8\n",
    "height=5\n",
    "triangle_area=base/2*height\n",
    "print(f\"The area of a triangle with a base of {base} and a height of {height} is {triangle_area}\")\n",
    "\n",
    "\n",
    "\n",
    "# Q13: Create a string variable `greeting` with the text \"Hello\" and another variable `recipient` with the text \"World\". Combine them with a space in between and print the result.\n",
    "# Your code here:\n",
    "greeting=\"Hello\"\n",
    "recipient=\"World\"\n",
    "result=greeting+' '+recipient\n",
    "print(result)\n",
    "# Q14: Create a boolean variable `is_active` and set it to `False`. Then change its value to `True` and print it.\n",
    "# Your code here:\n",
    "is_active=True\n",
    "is_active=False\n",
    "print(is_active)\n",
    "\n",
    "\n",
    "# Q15: Using f-strings, print a formatted message: \"My name is [name] and I am [age] years old.\" Replace [name] and [age] with the appropriate variables.\n",
    "# Your code here:\n",
    "print(f\"My name is {name} and I am {age} years old\")\n",
    "\n",
    "\n",
    "# Q16: Create a variable `pi` and assign it the value 3.14159. Print the variable, ensuring it only shows 2 decimal places.\n",
    "# Your code here:\n",
    "\n",
    "\n",
    "# Q17: Assign the value of a mathematical expression (e.g., `2 * (3 + 5)`) to a variable and print it.\n",
    "# Your code here:\n",
    "\n",
    "\n",
    "# Q18: Create a variable `sentence` and assign it a sentence of your choice. Use slicing to print the first 5 characters.\n",
    "# Your code here:\n",
    "\n",
    "\n",
    "# Q19: Create a variable `number` with the value 100. Use an arithmetic operation to double its value and then print it.\n",
    "# Your code here:\n",
    "\n",
    "\n",
    "# Q20: Declare three variables `a`, `b`, and `c` with values 5, 10, and 15 respectively. Calculate and print their average.\n",
    "# Your code here:\n",
    "\n",
    "\n",
    "# =======================================================================\n",
    "# End of Exercise\n",
    "# ======================================================================="
   ]
  },
  {
   "cell_type": "code",
   "execution_count": null,
   "id": "c3731849-f1aa-4124-85f0-2344713932be",
   "metadata": {},
   "outputs": [],
   "source": []
  }
 ],
 "metadata": {
  "colab": {
   "provenance": []
  },
  "kernelspec": {
   "display_name": "my-python3-kernel",
   "language": "python",
   "name": "my-python3-kernel"
  },
  "language_info": {
   "codemirror_mode": {
    "name": "ipython",
    "version": 3
   },
   "file_extension": ".py",
   "mimetype": "text/x-python",
   "name": "python",
   "nbconvert_exporter": "python",
   "pygments_lexer": "ipython3",
   "version": "3.12.7"
  }
 },
 "nbformat": 4,
 "nbformat_minor": 5
}
